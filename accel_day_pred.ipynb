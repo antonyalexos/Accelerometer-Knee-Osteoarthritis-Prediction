{
 "cells": [
  {
   "cell_type": "code",
   "execution_count": 1,
   "metadata": {
    "ExecuteTime": {
     "end_time": "2019-07-25T11:26:10.171999Z",
     "start_time": "2019-07-25T11:26:09.325108Z"
    }
   },
   "outputs": [],
   "source": [
    "import pandas as pd\n",
    "import numpy as np"
   ]
  },
  {
   "cell_type": "code",
   "execution_count": 2,
   "metadata": {
    "ExecuteTime": {
     "end_time": "2019-07-25T11:26:10.248450Z",
     "start_time": "2019-07-25T11:26:10.174479Z"
    }
   },
   "outputs": [],
   "source": [
    "data = pd.read_csv('../AccelDataByDay06.txt', sep=\"|\")"
   ]
  },
  {
   "cell_type": "code",
   "execution_count": 3,
   "metadata": {
    "ExecuteTime": {
     "end_time": "2019-07-25T11:26:10.290192Z",
     "start_time": "2019-07-25T11:26:10.251655Z"
    },
    "scrolled": true
   },
   "outputs": [
    {
     "data": {
      "text/html": [
       "<div>\n",
       "<style scoped>\n",
       "    .dataframe tbody tr th:only-of-type {\n",
       "        vertical-align: middle;\n",
       "    }\n",
       "\n",
       "    .dataframe tbody tr th {\n",
       "        vertical-align: top;\n",
       "    }\n",
       "\n",
       "    .dataframe thead th {\n",
       "        text-align: right;\n",
       "    }\n",
       "</style>\n",
       "<table border=\"1\" class=\"dataframe\">\n",
       "  <thead>\n",
       "    <tr style=\"text-align: right;\">\n",
       "      <th></th>\n",
       "      <th>ID</th>\n",
       "      <th>VERSION</th>\n",
       "      <th>V06PAStudyDay</th>\n",
       "      <th>V06VDaySequence</th>\n",
       "      <th>V06PAMonth</th>\n",
       "      <th>V06PAWeekDay</th>\n",
       "      <th>V06DAYModMinT</th>\n",
       "      <th>V06DAYModMinF</th>\n",
       "      <th>V06DAYModMinS</th>\n",
       "      <th>V06DAYVigMinT</th>\n",
       "      <th>...</th>\n",
       "      <th>V06DAYLtMinT</th>\n",
       "      <th>V06DAYLtMinF</th>\n",
       "      <th>V06DAYLtMinS</th>\n",
       "      <th>V06DAYMVBoutMinT</th>\n",
       "      <th>V06DAYMVBoutMinF</th>\n",
       "      <th>V06DAYMVBoutMinS</th>\n",
       "      <th>V06DAYVBoutMinT</th>\n",
       "      <th>V06DAYVBoutMinF</th>\n",
       "      <th>V06DAYVBoutMinS</th>\n",
       "      <th>V06WearHr</th>\n",
       "    </tr>\n",
       "  </thead>\n",
       "  <tbody>\n",
       "    <tr>\n",
       "      <th>0</th>\n",
       "      <td>9000099</td>\n",
       "      <td>6.2.1</td>\n",
       "      <td>414</td>\n",
       "      <td>1</td>\n",
       "      <td>9</td>\n",
       "      <td>Friday</td>\n",
       "      <td>77</td>\n",
       "      <td>78</td>\n",
       "      <td>174</td>\n",
       "      <td>0</td>\n",
       "      <td>...</td>\n",
       "      <td>267</td>\n",
       "      <td>266</td>\n",
       "      <td>169</td>\n",
       "      <td>65</td>\n",
       "      <td>65</td>\n",
       "      <td>76</td>\n",
       "      <td>0</td>\n",
       "      <td>0</td>\n",
       "      <td>0</td>\n",
       "      <td>17.533333</td>\n",
       "    </tr>\n",
       "    <tr>\n",
       "      <th>1</th>\n",
       "      <td>9000099</td>\n",
       "      <td>6.2.1</td>\n",
       "      <td>415</td>\n",
       "      <td>2</td>\n",
       "      <td>9</td>\n",
       "      <td>Saturday</td>\n",
       "      <td>79</td>\n",
       "      <td>87</td>\n",
       "      <td>249</td>\n",
       "      <td>0</td>\n",
       "      <td>...</td>\n",
       "      <td>421</td>\n",
       "      <td>413</td>\n",
       "      <td>251</td>\n",
       "      <td>59</td>\n",
       "      <td>59</td>\n",
       "      <td>146</td>\n",
       "      <td>0</td>\n",
       "      <td>0</td>\n",
       "      <td>0</td>\n",
       "      <td>17.050000</td>\n",
       "    </tr>\n",
       "    <tr>\n",
       "      <th>2</th>\n",
       "      <td>9000099</td>\n",
       "      <td>6.2.1</td>\n",
       "      <td>416</td>\n",
       "      <td>3</td>\n",
       "      <td>9</td>\n",
       "      <td>Sunday</td>\n",
       "      <td>67</td>\n",
       "      <td>67</td>\n",
       "      <td>140</td>\n",
       "      <td>0</td>\n",
       "      <td>...</td>\n",
       "      <td>217</td>\n",
       "      <td>217</td>\n",
       "      <td>144</td>\n",
       "      <td>65</td>\n",
       "      <td>65</td>\n",
       "      <td>88</td>\n",
       "      <td>0</td>\n",
       "      <td>0</td>\n",
       "      <td>0</td>\n",
       "      <td>17.483333</td>\n",
       "    </tr>\n",
       "    <tr>\n",
       "      <th>3</th>\n",
       "      <td>9000099</td>\n",
       "      <td>6.2.1</td>\n",
       "      <td>417</td>\n",
       "      <td>4</td>\n",
       "      <td>9</td>\n",
       "      <td>Monday</td>\n",
       "      <td>77</td>\n",
       "      <td>78</td>\n",
       "      <td>201</td>\n",
       "      <td>0</td>\n",
       "      <td>...</td>\n",
       "      <td>323</td>\n",
       "      <td>322</td>\n",
       "      <td>192</td>\n",
       "      <td>68</td>\n",
       "      <td>68</td>\n",
       "      <td>97</td>\n",
       "      <td>0</td>\n",
       "      <td>0</td>\n",
       "      <td>0</td>\n",
       "      <td>16.883333</td>\n",
       "    </tr>\n",
       "    <tr>\n",
       "      <th>4</th>\n",
       "      <td>9000099</td>\n",
       "      <td>6.2.1</td>\n",
       "      <td>418</td>\n",
       "      <td>5</td>\n",
       "      <td>9</td>\n",
       "      <td>Tuesday</td>\n",
       "      <td>74</td>\n",
       "      <td>75</td>\n",
       "      <td>161</td>\n",
       "      <td>0</td>\n",
       "      <td>...</td>\n",
       "      <td>235</td>\n",
       "      <td>234</td>\n",
       "      <td>148</td>\n",
       "      <td>65</td>\n",
       "      <td>65</td>\n",
       "      <td>87</td>\n",
       "      <td>0</td>\n",
       "      <td>0</td>\n",
       "      <td>0</td>\n",
       "      <td>15.833333</td>\n",
       "    </tr>\n",
       "  </tbody>\n",
       "</table>\n",
       "<p>5 rows × 26 columns</p>\n",
       "</div>"
      ],
      "text/plain": [
       "        ID VERSION  V06PAStudyDay  V06VDaySequence  V06PAMonth V06PAWeekDay  \\\n",
       "0  9000099   6.2.1            414                1           9       Friday   \n",
       "1  9000099   6.2.1            415                2           9     Saturday   \n",
       "2  9000099   6.2.1            416                3           9       Sunday   \n",
       "3  9000099   6.2.1            417                4           9       Monday   \n",
       "4  9000099   6.2.1            418                5           9      Tuesday   \n",
       "\n",
       "   V06DAYModMinT  V06DAYModMinF  V06DAYModMinS  V06DAYVigMinT    ...      \\\n",
       "0             77             78            174              0    ...       \n",
       "1             79             87            249              0    ...       \n",
       "2             67             67            140              0    ...       \n",
       "3             77             78            201              0    ...       \n",
       "4             74             75            161              0    ...       \n",
       "\n",
       "   V06DAYLtMinT  V06DAYLtMinF  V06DAYLtMinS  V06DAYMVBoutMinT  \\\n",
       "0           267           266           169                65   \n",
       "1           421           413           251                59   \n",
       "2           217           217           144                65   \n",
       "3           323           322           192                68   \n",
       "4           235           234           148                65   \n",
       "\n",
       "   V06DAYMVBoutMinF  V06DAYMVBoutMinS  V06DAYVBoutMinT  V06DAYVBoutMinF  \\\n",
       "0                65                76                0                0   \n",
       "1                59               146                0                0   \n",
       "2                65                88                0                0   \n",
       "3                68                97                0                0   \n",
       "4                65                87                0                0   \n",
       "\n",
       "   V06DAYVBoutMinS  V06WearHr  \n",
       "0                0  17.533333  \n",
       "1                0  17.050000  \n",
       "2                0  17.483333  \n",
       "3                0  16.883333  \n",
       "4                0  15.833333  \n",
       "\n",
       "[5 rows x 26 columns]"
      ]
     },
     "execution_count": 3,
     "metadata": {},
     "output_type": "execute_result"
    }
   ],
   "source": [
    "data.head()"
   ]
  },
  {
   "cell_type": "code",
   "execution_count": 4,
   "metadata": {
    "ExecuteTime": {
     "end_time": "2019-07-25T11:26:10.302811Z",
     "start_time": "2019-07-25T11:26:10.294257Z"
    },
    "scrolled": true
   },
   "outputs": [],
   "source": [
    "##A. KL history features + Swartz features + Troiano features + Freedson features\n",
    "data.drop(['VERSION','V06VDaySequence','V06PAStudyDay','V06PAMonth','V06PAWeekDay','V06WearHr'],axis=1,inplace=True) #we don't need these column"
   ]
  },
  {
   "cell_type": "code",
   "execution_count": 5,
   "metadata": {
    "ExecuteTime": {
     "end_time": "2019-07-25T11:26:10.309817Z",
     "start_time": "2019-07-25T11:26:10.306582Z"
    }
   },
   "outputs": [],
   "source": [
    "#B. KL history features + Swartz features\n",
    "# data.drop(['V06DAYModMinT', 'V06DAYModMinF','V06DAYVigMinT', 'V06DAYVigMinF', 'V06DAYMVMinT','V06DAYMVMinF', 'V06DAYLtMinT','V06DAYLtMinF', 'V06DAYMVBoutMinT', 'V06DAYMVBoutMinF', 'V06DAYVBoutMinT', 'V06DAYVBoutMinF'],axis=1,inplace=True)"
   ]
  },
  {
   "cell_type": "code",
   "execution_count": 6,
   "metadata": {
    "ExecuteTime": {
     "end_time": "2019-07-25T11:26:10.317851Z",
     "start_time": "2019-07-25T11:26:10.313765Z"
    }
   },
   "outputs": [],
   "source": [
    "#C. KL history features + Troiano features\n",
    "# data.drop(['V06DAYModMinF', 'V06DAYModMinS', 'V06DAYVigMinF', 'V06DAYVigMinS','V06DAYMVMinF', 'V06DAYMVMinS','V06DAYLtMinF', 'V06DAYLtMinS', 'V06DAYMVBoutMinF','V06DAYMVBoutMinS', 'V06DAYVBoutMinF', 'V06DAYVBoutMinS'],axis=1,inplace=True) #we don't need these column"
   ]
  },
  {
   "cell_type": "code",
   "execution_count": 7,
   "metadata": {
    "ExecuteTime": {
     "end_time": "2019-07-25T11:26:10.325413Z",
     "start_time": "2019-07-25T11:26:10.321162Z"
    }
   },
   "outputs": [],
   "source": [
    "#D. KL history features + Freedson features\n",
    "# data.drop(['V06DAYModMinT', 'V06DAYModMinS','V06DAYVigMinT', 'V06DAYVigMinS', 'V06DAYMVMinT', 'V06DAYMVMinS', 'V06DAYLtMinT', 'V06DAYLtMinS', 'V06DAYMVBoutMinT', 'V06DAYMVBoutMinS', 'V06DAYVBoutMinT','V06DAYVBoutMinS'],axis=1,inplace=True) #we don't need these column"
   ]
  },
  {
   "cell_type": "code",
   "execution_count": 8,
   "metadata": {
    "ExecuteTime": {
     "end_time": "2019-07-25T11:26:10.334536Z",
     "start_time": "2019-07-25T11:26:10.330812Z"
    }
   },
   "outputs": [],
   "source": [
    "#E. Swartz features + Troiano features + Freedson features\n",
    "#I need to delete the Kl history for this one"
   ]
  },
  {
   "cell_type": "code",
   "execution_count": 9,
   "metadata": {
    "ExecuteTime": {
     "end_time": "2019-07-25T11:26:10.346264Z",
     "start_time": "2019-07-25T11:26:10.337491Z"
    }
   },
   "outputs": [
    {
     "data": {
      "text/plain": [
       "Index(['ID', 'V06DAYModMinT', 'V06DAYModMinF', 'V06DAYModMinS',\n",
       "       'V06DAYVigMinT', 'V06DAYVigMinF', 'V06DAYVigMinS', 'V06DAYMVMinT',\n",
       "       'V06DAYMVMinF', 'V06DAYMVMinS', 'V06DAYCnt', 'V06DAYLtMinT',\n",
       "       'V06DAYLtMinF', 'V06DAYLtMinS', 'V06DAYMVBoutMinT', 'V06DAYMVBoutMinF',\n",
       "       'V06DAYMVBoutMinS', 'V06DAYVBoutMinT', 'V06DAYVBoutMinF',\n",
       "       'V06DAYVBoutMinS'],\n",
       "      dtype='object')"
      ]
     },
     "execution_count": 9,
     "metadata": {},
     "output_type": "execute_result"
    }
   ],
   "source": [
    "data.columns"
   ]
  },
  {
   "cell_type": "code",
   "execution_count": 10,
   "metadata": {
    "ExecuteTime": {
     "end_time": "2019-07-25T11:26:10.370868Z",
     "start_time": "2019-07-25T11:26:10.349492Z"
    }
   },
   "outputs": [
    {
     "data": {
      "text/html": [
       "<div>\n",
       "<style scoped>\n",
       "    .dataframe tbody tr th:only-of-type {\n",
       "        vertical-align: middle;\n",
       "    }\n",
       "\n",
       "    .dataframe tbody tr th {\n",
       "        vertical-align: top;\n",
       "    }\n",
       "\n",
       "    .dataframe thead th {\n",
       "        text-align: right;\n",
       "    }\n",
       "</style>\n",
       "<table border=\"1\" class=\"dataframe\">\n",
       "  <thead>\n",
       "    <tr style=\"text-align: right;\">\n",
       "      <th></th>\n",
       "      <th>ID</th>\n",
       "      <th>V06DAYModMinT</th>\n",
       "      <th>V06DAYModMinF</th>\n",
       "      <th>V06DAYModMinS</th>\n",
       "      <th>V06DAYVigMinT</th>\n",
       "      <th>V06DAYVigMinF</th>\n",
       "      <th>V06DAYVigMinS</th>\n",
       "      <th>V06DAYMVMinT</th>\n",
       "      <th>V06DAYMVMinF</th>\n",
       "      <th>V06DAYMVMinS</th>\n",
       "      <th>V06DAYCnt</th>\n",
       "      <th>V06DAYLtMinT</th>\n",
       "      <th>V06DAYLtMinF</th>\n",
       "      <th>V06DAYLtMinS</th>\n",
       "      <th>V06DAYMVBoutMinT</th>\n",
       "      <th>V06DAYMVBoutMinF</th>\n",
       "      <th>V06DAYMVBoutMinS</th>\n",
       "      <th>V06DAYVBoutMinT</th>\n",
       "      <th>V06DAYVBoutMinF</th>\n",
       "      <th>V06DAYVBoutMinS</th>\n",
       "    </tr>\n",
       "  </thead>\n",
       "  <tbody>\n",
       "    <tr>\n",
       "      <th>0</th>\n",
       "      <td>9000099</td>\n",
       "      <td>77</td>\n",
       "      <td>78</td>\n",
       "      <td>174</td>\n",
       "      <td>0</td>\n",
       "      <td>0</td>\n",
       "      <td>1</td>\n",
       "      <td>77</td>\n",
       "      <td>78</td>\n",
       "      <td>175</td>\n",
       "      <td>484948</td>\n",
       "      <td>267</td>\n",
       "      <td>266</td>\n",
       "      <td>169</td>\n",
       "      <td>65</td>\n",
       "      <td>65</td>\n",
       "      <td>76</td>\n",
       "      <td>0</td>\n",
       "      <td>0</td>\n",
       "      <td>0</td>\n",
       "    </tr>\n",
       "    <tr>\n",
       "      <th>1</th>\n",
       "      <td>9000099</td>\n",
       "      <td>79</td>\n",
       "      <td>87</td>\n",
       "      <td>249</td>\n",
       "      <td>0</td>\n",
       "      <td>0</td>\n",
       "      <td>0</td>\n",
       "      <td>79</td>\n",
       "      <td>87</td>\n",
       "      <td>249</td>\n",
       "      <td>571815</td>\n",
       "      <td>421</td>\n",
       "      <td>413</td>\n",
       "      <td>251</td>\n",
       "      <td>59</td>\n",
       "      <td>59</td>\n",
       "      <td>146</td>\n",
       "      <td>0</td>\n",
       "      <td>0</td>\n",
       "      <td>0</td>\n",
       "    </tr>\n",
       "    <tr>\n",
       "      <th>2</th>\n",
       "      <td>9000099</td>\n",
       "      <td>67</td>\n",
       "      <td>67</td>\n",
       "      <td>140</td>\n",
       "      <td>0</td>\n",
       "      <td>0</td>\n",
       "      <td>0</td>\n",
       "      <td>67</td>\n",
       "      <td>67</td>\n",
       "      <td>140</td>\n",
       "      <td>406252</td>\n",
       "      <td>217</td>\n",
       "      <td>217</td>\n",
       "      <td>144</td>\n",
       "      <td>65</td>\n",
       "      <td>65</td>\n",
       "      <td>88</td>\n",
       "      <td>0</td>\n",
       "      <td>0</td>\n",
       "      <td>0</td>\n",
       "    </tr>\n",
       "    <tr>\n",
       "      <th>3</th>\n",
       "      <td>9000099</td>\n",
       "      <td>77</td>\n",
       "      <td>78</td>\n",
       "      <td>201</td>\n",
       "      <td>0</td>\n",
       "      <td>0</td>\n",
       "      <td>7</td>\n",
       "      <td>77</td>\n",
       "      <td>78</td>\n",
       "      <td>208</td>\n",
       "      <td>532713</td>\n",
       "      <td>323</td>\n",
       "      <td>322</td>\n",
       "      <td>192</td>\n",
       "      <td>68</td>\n",
       "      <td>68</td>\n",
       "      <td>97</td>\n",
       "      <td>0</td>\n",
       "      <td>0</td>\n",
       "      <td>0</td>\n",
       "    </tr>\n",
       "    <tr>\n",
       "      <th>4</th>\n",
       "      <td>9000099</td>\n",
       "      <td>74</td>\n",
       "      <td>75</td>\n",
       "      <td>161</td>\n",
       "      <td>0</td>\n",
       "      <td>0</td>\n",
       "      <td>0</td>\n",
       "      <td>74</td>\n",
       "      <td>75</td>\n",
       "      <td>161</td>\n",
       "      <td>437370</td>\n",
       "      <td>235</td>\n",
       "      <td>234</td>\n",
       "      <td>148</td>\n",
       "      <td>65</td>\n",
       "      <td>65</td>\n",
       "      <td>87</td>\n",
       "      <td>0</td>\n",
       "      <td>0</td>\n",
       "      <td>0</td>\n",
       "    </tr>\n",
       "  </tbody>\n",
       "</table>\n",
       "</div>"
      ],
      "text/plain": [
       "        ID  V06DAYModMinT  V06DAYModMinF  V06DAYModMinS  V06DAYVigMinT  \\\n",
       "0  9000099             77             78            174              0   \n",
       "1  9000099             79             87            249              0   \n",
       "2  9000099             67             67            140              0   \n",
       "3  9000099             77             78            201              0   \n",
       "4  9000099             74             75            161              0   \n",
       "\n",
       "   V06DAYVigMinF  V06DAYVigMinS  V06DAYMVMinT  V06DAYMVMinF  V06DAYMVMinS  \\\n",
       "0              0              1            77            78           175   \n",
       "1              0              0            79            87           249   \n",
       "2              0              0            67            67           140   \n",
       "3              0              7            77            78           208   \n",
       "4              0              0            74            75           161   \n",
       "\n",
       "   V06DAYCnt  V06DAYLtMinT  V06DAYLtMinF  V06DAYLtMinS  V06DAYMVBoutMinT  \\\n",
       "0     484948           267           266           169                65   \n",
       "1     571815           421           413           251                59   \n",
       "2     406252           217           217           144                65   \n",
       "3     532713           323           322           192                68   \n",
       "4     437370           235           234           148                65   \n",
       "\n",
       "   V06DAYMVBoutMinF  V06DAYMVBoutMinS  V06DAYVBoutMinT  V06DAYVBoutMinF  \\\n",
       "0                65                76                0                0   \n",
       "1                59               146                0                0   \n",
       "2                65                88                0                0   \n",
       "3                68                97                0                0   \n",
       "4                65                87                0                0   \n",
       "\n",
       "   V06DAYVBoutMinS  \n",
       "0                0  \n",
       "1                0  \n",
       "2                0  \n",
       "3                0  \n",
       "4                0  "
      ]
     },
     "execution_count": 10,
     "metadata": {},
     "output_type": "execute_result"
    }
   ],
   "source": [
    "data.head()"
   ]
  },
  {
   "cell_type": "code",
   "execution_count": 12,
   "metadata": {
    "ExecuteTime": {
     "end_time": "2019-07-25T11:27:40.334625Z",
     "start_time": "2019-07-25T11:26:10.381666Z"
    }
   },
   "outputs": [],
   "source": [
    "def im_awesome(df):\n",
    "    whole=[]\n",
    "    times_index=df.groupby(['ID']).size().values\n",
    "    times_index=np.insert(times_index,0,0)\n",
    "    indexes=df['ID'].unique()\n",
    "    dataf=df.copy()\n",
    "    dataf.drop(['ID'],axis=1,inplace=True)\n",
    "    \n",
    "    for i in range(len(times_index)-1):\n",
    "        ex=dataf[times_index[i]:times_index[i]+times_index[i+1]]\n",
    "        dt=np.array(ex)\n",
    "        dt=np.tile(dt,times_index[i+1])\n",
    "        ex=pd.DataFrame(dt)\n",
    "        \n",
    "        for j in range(int(len(ex.T)/len(dataf.columns))):\n",
    "            ints=np.arange(0,len(dataf.columns),1)+j*len(dataf.columns)\n",
    "            ex[ints]=ex[ints].shift(-j)\n",
    "        \n",
    "        ex=ex.dropna()\n",
    "        whole.append(ex)\n",
    "        \n",
    "    frame=pd.DataFrame()\n",
    "\n",
    "    for i in whole:\n",
    "        frame=frame.append(i)\n",
    "\n",
    "#     frame=frame.shift(1,axis=1)\n",
    "    frame=frame.fillna(0)\n",
    "    frame['ID']=indexes\n",
    "    \n",
    "    return frame\n",
    "\n",
    "pivoted=im_awesome(data)  "
   ]
  },
  {
   "cell_type": "code",
   "execution_count": 13,
   "metadata": {
    "ExecuteTime": {
     "end_time": "2019-07-25T11:27:40.363436Z",
     "start_time": "2019-07-25T11:27:40.337352Z"
    }
   },
   "outputs": [
    {
     "data": {
      "text/html": [
       "<div>\n",
       "<style scoped>\n",
       "    .dataframe tbody tr th:only-of-type {\n",
       "        vertical-align: middle;\n",
       "    }\n",
       "\n",
       "    .dataframe tbody tr th {\n",
       "        vertical-align: top;\n",
       "    }\n",
       "\n",
       "    .dataframe thead th {\n",
       "        text-align: right;\n",
       "    }\n",
       "</style>\n",
       "<table border=\"1\" class=\"dataframe\">\n",
       "  <thead>\n",
       "    <tr style=\"text-align: right;\">\n",
       "      <th></th>\n",
       "      <th>0</th>\n",
       "      <th>1</th>\n",
       "      <th>2</th>\n",
       "      <th>3</th>\n",
       "      <th>4</th>\n",
       "      <th>5</th>\n",
       "      <th>6</th>\n",
       "      <th>7</th>\n",
       "      <th>8</th>\n",
       "      <th>9</th>\n",
       "      <th>...</th>\n",
       "      <th>124</th>\n",
       "      <th>125</th>\n",
       "      <th>126</th>\n",
       "      <th>127</th>\n",
       "      <th>128</th>\n",
       "      <th>129</th>\n",
       "      <th>130</th>\n",
       "      <th>131</th>\n",
       "      <th>132</th>\n",
       "      <th>ID</th>\n",
       "    </tr>\n",
       "  </thead>\n",
       "  <tbody>\n",
       "    <tr>\n",
       "      <th>0</th>\n",
       "      <td>77</td>\n",
       "      <td>78</td>\n",
       "      <td>174</td>\n",
       "      <td>0</td>\n",
       "      <td>0</td>\n",
       "      <td>1</td>\n",
       "      <td>77</td>\n",
       "      <td>78</td>\n",
       "      <td>175</td>\n",
       "      <td>484948</td>\n",
       "      <td>...</td>\n",
       "      <td>0.0</td>\n",
       "      <td>0.0</td>\n",
       "      <td>0.0</td>\n",
       "      <td>0.0</td>\n",
       "      <td>0.0</td>\n",
       "      <td>0.0</td>\n",
       "      <td>0.0</td>\n",
       "      <td>0.0</td>\n",
       "      <td>0.0</td>\n",
       "      <td>9000099</td>\n",
       "    </tr>\n",
       "    <tr>\n",
       "      <th>0</th>\n",
       "      <td>10</td>\n",
       "      <td>11</td>\n",
       "      <td>132</td>\n",
       "      <td>0</td>\n",
       "      <td>0</td>\n",
       "      <td>0</td>\n",
       "      <td>10</td>\n",
       "      <td>11</td>\n",
       "      <td>132</td>\n",
       "      <td>224700</td>\n",
       "      <td>...</td>\n",
       "      <td>296.0</td>\n",
       "      <td>295.0</td>\n",
       "      <td>175.0</td>\n",
       "      <td>11.0</td>\n",
       "      <td>11.0</td>\n",
       "      <td>64.0</td>\n",
       "      <td>0.0</td>\n",
       "      <td>0.0</td>\n",
       "      <td>0.0</td>\n",
       "      <td>9001695</td>\n",
       "    </tr>\n",
       "    <tr>\n",
       "      <th>0</th>\n",
       "      <td>15</td>\n",
       "      <td>20</td>\n",
       "      <td>217</td>\n",
       "      <td>0</td>\n",
       "      <td>0</td>\n",
       "      <td>0</td>\n",
       "      <td>15</td>\n",
       "      <td>20</td>\n",
       "      <td>217</td>\n",
       "      <td>330674</td>\n",
       "      <td>...</td>\n",
       "      <td>95.0</td>\n",
       "      <td>95.0</td>\n",
       "      <td>83.0</td>\n",
       "      <td>0.0</td>\n",
       "      <td>0.0</td>\n",
       "      <td>0.0</td>\n",
       "      <td>0.0</td>\n",
       "      <td>0.0</td>\n",
       "      <td>0.0</td>\n",
       "      <td>9001897</td>\n",
       "    </tr>\n",
       "    <tr>\n",
       "      <th>0</th>\n",
       "      <td>15</td>\n",
       "      <td>20</td>\n",
       "      <td>217</td>\n",
       "      <td>0</td>\n",
       "      <td>0</td>\n",
       "      <td>0</td>\n",
       "      <td>15</td>\n",
       "      <td>20</td>\n",
       "      <td>217</td>\n",
       "      <td>330674</td>\n",
       "      <td>...</td>\n",
       "      <td>0.0</td>\n",
       "      <td>0.0</td>\n",
       "      <td>0.0</td>\n",
       "      <td>0.0</td>\n",
       "      <td>0.0</td>\n",
       "      <td>0.0</td>\n",
       "      <td>0.0</td>\n",
       "      <td>0.0</td>\n",
       "      <td>0.0</td>\n",
       "      <td>9002116</td>\n",
       "    </tr>\n",
       "    <tr>\n",
       "      <th>0</th>\n",
       "      <td>26</td>\n",
       "      <td>31</td>\n",
       "      <td>169</td>\n",
       "      <td>0</td>\n",
       "      <td>0</td>\n",
       "      <td>0</td>\n",
       "      <td>26</td>\n",
       "      <td>31</td>\n",
       "      <td>169</td>\n",
       "      <td>270800</td>\n",
       "      <td>...</td>\n",
       "      <td>155.0</td>\n",
       "      <td>155.0</td>\n",
       "      <td>109.0</td>\n",
       "      <td>0.0</td>\n",
       "      <td>0.0</td>\n",
       "      <td>9.0</td>\n",
       "      <td>0.0</td>\n",
       "      <td>0.0</td>\n",
       "      <td>0.0</td>\n",
       "      <td>9002430</td>\n",
       "    </tr>\n",
       "  </tbody>\n",
       "</table>\n",
       "<p>5 rows × 134 columns</p>\n",
       "</div>"
      ],
      "text/plain": [
       "    0   1    2  3  4  5   6   7    8       9   ...       124    125    126  \\\n",
       "0  77  78  174  0  0  1  77  78  175  484948   ...       0.0    0.0    0.0   \n",
       "0  10  11  132  0  0  0  10  11  132  224700   ...     296.0  295.0  175.0   \n",
       "0  15  20  217  0  0  0  15  20  217  330674   ...      95.0   95.0   83.0   \n",
       "0  15  20  217  0  0  0  15  20  217  330674   ...       0.0    0.0    0.0   \n",
       "0  26  31  169  0  0  0  26  31  169  270800   ...     155.0  155.0  109.0   \n",
       "\n",
       "    127   128   129  130  131  132       ID  \n",
       "0   0.0   0.0   0.0  0.0  0.0  0.0  9000099  \n",
       "0  11.0  11.0  64.0  0.0  0.0  0.0  9001695  \n",
       "0   0.0   0.0   0.0  0.0  0.0  0.0  9001897  \n",
       "0   0.0   0.0   0.0  0.0  0.0  0.0  9002116  \n",
       "0   0.0   0.0   9.0  0.0  0.0  0.0  9002430  \n",
       "\n",
       "[5 rows x 134 columns]"
      ]
     },
     "execution_count": 13,
     "metadata": {},
     "output_type": "execute_result"
    }
   ],
   "source": [
    "pivoted.head()"
   ]
  },
  {
   "cell_type": "code",
   "execution_count": 14,
   "metadata": {
    "ExecuteTime": {
     "end_time": "2019-07-25T11:27:40.377689Z",
     "start_time": "2019-07-25T11:27:40.366165Z"
    }
   },
   "outputs": [],
   "source": [
    "target = pd.read_csv('../target.csv',index_col=0)"
   ]
  },
  {
   "cell_type": "code",
   "execution_count": 15,
   "metadata": {
    "ExecuteTime": {
     "end_time": "2019-07-25T11:27:40.526204Z",
     "start_time": "2019-07-25T11:27:40.381343Z"
    }
   },
   "outputs": [],
   "source": [
    "#we delete here some ids that we probably need. So this is ambigular\n",
    "\n",
    "col = pd.DataFrame(data.ID.unique(), columns=['ID']) #unique ids of data\n",
    "\n",
    "y = target.merge(col, how='inner', indicator=True)\n",
    "\n",
    "y.drop(y.columns[[2]],axis=1,inplace=True) #we don't need merge column\n",
    "\n",
    "val = y['ID']\n"
   ]
  },
  {
   "cell_type": "code",
   "execution_count": 16,
   "metadata": {
    "ExecuteTime": {
     "end_time": "2019-07-25T11:27:40.533771Z",
     "start_time": "2019-07-25T11:27:40.528892Z"
    }
   },
   "outputs": [],
   "source": [
    "y.drop(['ID'],axis=1,inplace=True)\n",
    "y = y.set_index(val)"
   ]
  },
  {
   "cell_type": "code",
   "execution_count": 17,
   "metadata": {
    "ExecuteTime": {
     "end_time": "2019-07-25T11:27:40.542093Z",
     "start_time": "2019-07-25T11:27:40.537438Z"
    }
   },
   "outputs": [],
   "source": [
    "y = pd.Series(y['target'], index=val)"
   ]
  },
  {
   "cell_type": "code",
   "execution_count": 18,
   "metadata": {
    "ExecuteTime": {
     "end_time": "2019-07-25T11:27:40.554035Z",
     "start_time": "2019-07-25T11:27:40.546406Z"
    },
    "scrolled": true
   },
   "outputs": [
    {
     "data": {
      "text/plain": [
       "Counter({0: 905, 1: 215})"
      ]
     },
     "execution_count": 18,
     "metadata": {},
     "output_type": "execute_result"
    }
   ],
   "source": [
    "import collections, numpy\n",
    "\n",
    "collections.Counter(y)  #problem because we see a that the dataset is unbalanced"
   ]
  },
  {
   "cell_type": "code",
   "execution_count": 19,
   "metadata": {
    "ExecuteTime": {
     "end_time": "2019-07-25T11:27:40.567949Z",
     "start_time": "2019-07-25T11:27:40.557483Z"
    },
    "scrolled": true
   },
   "outputs": [],
   "source": [
    "# pivoted = pivoted.reset_index()\n",
    "x_data = pivoted[pivoted['ID'].isin(val)]"
   ]
  },
  {
   "cell_type": "code",
   "execution_count": 20,
   "metadata": {
    "ExecuteTime": {
     "end_time": "2019-07-25T11:27:41.411844Z",
     "start_time": "2019-07-25T11:27:40.571821Z"
    }
   },
   "outputs": [
    {
     "data": {
      "text/html": [
       "<div>\n",
       "<style scoped>\n",
       "    .dataframe tbody tr th:only-of-type {\n",
       "        vertical-align: middle;\n",
       "    }\n",
       "\n",
       "    .dataframe tbody tr th {\n",
       "        vertical-align: top;\n",
       "    }\n",
       "\n",
       "    .dataframe thead th {\n",
       "        text-align: right;\n",
       "    }\n",
       "</style>\n",
       "<table border=\"1\" class=\"dataframe\">\n",
       "  <thead>\n",
       "    <tr style=\"text-align: right;\">\n",
       "      <th></th>\n",
       "      <th>ID</th>\n",
       "      <th>V06XRKL</th>\n",
       "      <th>mean</th>\n",
       "      <th>std</th>\n",
       "      <th>variance</th>\n",
       "    </tr>\n",
       "  </thead>\n",
       "  <tbody>\n",
       "    <tr>\n",
       "      <th>0</th>\n",
       "      <td>9001695</td>\n",
       "      <td>0.0</td>\n",
       "      <td>0.0</td>\n",
       "      <td>0.000000</td>\n",
       "      <td>0.0</td>\n",
       "    </tr>\n",
       "    <tr>\n",
       "      <th>1</th>\n",
       "      <td>9001897</td>\n",
       "      <td>1.0</td>\n",
       "      <td>0.2</td>\n",
       "      <td>0.447214</td>\n",
       "      <td>0.2</td>\n",
       "    </tr>\n",
       "    <tr>\n",
       "      <th>2</th>\n",
       "      <td>9003126</td>\n",
       "      <td>0.0</td>\n",
       "      <td>0.0</td>\n",
       "      <td>0.000000</td>\n",
       "      <td>0.0</td>\n",
       "    </tr>\n",
       "    <tr>\n",
       "      <th>3</th>\n",
       "      <td>9004184</td>\n",
       "      <td>1.0</td>\n",
       "      <td>1.0</td>\n",
       "      <td>0.000000</td>\n",
       "      <td>0.0</td>\n",
       "    </tr>\n",
       "    <tr>\n",
       "      <th>4</th>\n",
       "      <td>9006140</td>\n",
       "      <td>0.0</td>\n",
       "      <td>0.0</td>\n",
       "      <td>0.000000</td>\n",
       "      <td>0.0</td>\n",
       "    </tr>\n",
       "  </tbody>\n",
       "</table>\n",
       "</div>"
      ],
      "text/plain": [
       "        ID  V06XRKL  mean       std  variance\n",
       "0  9001695      0.0   0.0  0.000000       0.0\n",
       "1  9001897      1.0   0.2  0.447214       0.2\n",
       "2  9003126      0.0   0.0  0.000000       0.0\n",
       "3  9004184      1.0   1.0  0.000000       0.0\n",
       "4  9006140      0.0   0.0  0.000000       0.0"
      ]
     },
     "execution_count": 20,
     "metadata": {},
     "output_type": "execute_result"
    }
   ],
   "source": [
    "#we put more features to our dataset based on the KL file\n",
    "\n",
    "df = pd.read_excel(\"../KL.xlsx\",header = None, names = ['ID','SIDE','V00XRKL','V01XRKL','V03XRKL','V05XRKL','V06XRKL','V08XRKL','V10XRKL'])\n",
    "\n",
    "col = pd.DataFrame(x_data.ID.unique(), columns=['ID']) #unique ids of data\n",
    "df = df.merge(col, how='inner', indicator=True)\n",
    "\n",
    "df.drop(['_merge'],axis=1,inplace=True) #we don't need merge column\n",
    "\n",
    "\n",
    "df = df.dropna(subset=['V06XRKL'])\n",
    "df = df.dropna(subset=['V08XRKL','V10XRKL'], how='all')\n",
    "\n",
    "df.drop(['SIDE','V08XRKL','V10XRKL'],axis=1,inplace=True)\n",
    "df1 = df.copy()\n",
    "df1.drop(['ID'],axis=1,inplace=True)\n",
    "df['mean'] = df1.mean(axis=1)\n",
    "df['std'] = df1.std(axis=1)\n",
    "df['variance'] = df1.var(axis=1)\n",
    "\n",
    "df.drop(['V00XRKL','V01XRKL','V03XRKL','V05XRKL'],axis=1,inplace=True)\n",
    "\n",
    "df = df.groupby('ID').max().reset_index()\n",
    "\n",
    "df.head()"
   ]
  },
  {
   "cell_type": "code",
   "execution_count": 21,
   "metadata": {
    "ExecuteTime": {
     "end_time": "2019-07-25T11:27:41.418227Z",
     "start_time": "2019-07-25T11:27:41.415027Z"
    }
   },
   "outputs": [],
   "source": [
    "col = pd.DataFrame(df.ID.unique(), columns=['ID']) #unique ids of data\n",
    "x_data = x_data.merge(col, how='inner', indicator=True)\n",
    "x_data.drop(['_merge'],axis=1,inplace=True) #we don't need merge column"
   ]
  },
  {
   "cell_type": "code",
   "execution_count": 22,
   "metadata": {
    "ExecuteTime": {
     "end_time": "2019-07-25T11:27:41.430552Z",
     "start_time": "2019-07-25T11:27:41.422861Z"
    }
   },
   "outputs": [],
   "source": [
    "X = pd.concat([df,x_data], axis=1)"
   ]
  },
  {
   "cell_type": "code",
   "execution_count": 23,
   "metadata": {
    "ExecuteTime": {
     "end_time": "2019-07-25T11:27:41.446427Z",
     "start_time": "2019-07-25T11:27:41.434870Z"
    }
   },
   "outputs": [],
   "source": [
    "X.head()"
   ]
  },
  {
   "cell_type": "code",
   "execution_count": 24,
   "metadata": {
    "ExecuteTime": {
     "end_time": "2019-07-25T11:27:41.456195Z",
     "start_time": "2019-07-25T11:27:41.452004Z"
    }
   },
   "outputs": [],
   "source": [
    "X = X.iloc[:, :-1] #we delete the last column because it is the ID and we already have it"
   ]
  },
  {
   "cell_type": "code",
   "execution_count": 25,
   "metadata": {
    "ExecuteTime": {
     "end_time": "2019-07-25T11:27:41.463192Z",
     "start_time": "2019-07-25T11:27:41.459092Z"
    }
   },
   "outputs": [],
   "source": [
    "X.head()"
   ]
  },
  {
   "cell_type": "code",
   "execution_count": 27,
   "metadata": {
    "ExecuteTime": {
     "end_time": "2019-07-25T11:35:46.058992Z",
     "start_time": "2019-07-25T11:35:46.033879Z"
    }
   },
   "outputs": [],
   "source": [
    "target = pd.read_csv('../target.csv',index_col=0)\n",
    "\n",
    "#we delete here some ids that we probably need. So this is ambigular\n",
    "\n",
    "col = pd.DataFrame(x_data['ID'].unique(), columns=['ID']) #unique ids of data\n",
    "\n",
    "y = target.merge(col, how='inner', indicator=True)\n",
    "\n",
    "y.drop(y.columns[[2]],axis=1,inplace=True) #we don't need merge column\n",
    "\n",
    "val = y['ID']\n",
    "\n",
    "y.drop(['ID'],axis=1,inplace=True)\n",
    "y = y.set_index(val)\n"
   ]
  },
  {
   "cell_type": "code",
   "execution_count": 28,
   "metadata": {
    "ExecuteTime": {
     "end_time": "2019-07-25T11:35:47.577934Z",
     "start_time": "2019-07-25T11:35:47.572059Z"
    }
   },
   "outputs": [
    {
     "data": {
      "text/plain": [
       "Counter({0: 905, 1: 215})"
      ]
     },
     "execution_count": 28,
     "metadata": {},
     "output_type": "execute_result"
    }
   ],
   "source": [
    "import collections, numpy\n",
    "\n",
    "collections.Counter(y.target)  #problem because we see a that the dataset is unbalanced"
   ]
  },
  {
   "cell_type": "code",
   "execution_count": 29,
   "metadata": {
    "ExecuteTime": {
     "end_time": "2019-07-25T11:35:48.897202Z",
     "start_time": "2019-07-25T11:35:48.892940Z"
    }
   },
   "outputs": [],
   "source": [
    "# X = X.iloc[:, [1,2,3,4,5,134,120,126,119,125,62,68,14,36,73,72,121,127,131,128,77,100,106,129,130,101,107,132,133,39,63,69,112,71,113,114,64,71,111,110,109,16,115,102,108,7,24,30,25,31,91]]\n",
    "# this is for selected columns only"
   ]
  },
  {
   "cell_type": "code",
   "execution_count": 30,
   "metadata": {
    "ExecuteTime": {
     "end_time": "2019-07-25T11:35:50.279073Z",
     "start_time": "2019-07-25T11:35:50.252985Z"
    }
   },
   "outputs": [
    {
     "data": {
      "text/html": [
       "<div>\n",
       "<style scoped>\n",
       "    .dataframe tbody tr th:only-of-type {\n",
       "        vertical-align: middle;\n",
       "    }\n",
       "\n",
       "    .dataframe tbody tr th {\n",
       "        vertical-align: top;\n",
       "    }\n",
       "\n",
       "    .dataframe thead th {\n",
       "        text-align: right;\n",
       "    }\n",
       "</style>\n",
       "<table border=\"1\" class=\"dataframe\">\n",
       "  <thead>\n",
       "    <tr style=\"text-align: right;\">\n",
       "      <th></th>\n",
       "      <th>0</th>\n",
       "      <th>1</th>\n",
       "      <th>2</th>\n",
       "      <th>3</th>\n",
       "      <th>4</th>\n",
       "      <th>5</th>\n",
       "      <th>6</th>\n",
       "      <th>7</th>\n",
       "      <th>8</th>\n",
       "      <th>9</th>\n",
       "      <th>...</th>\n",
       "      <th>124</th>\n",
       "      <th>125</th>\n",
       "      <th>126</th>\n",
       "      <th>127</th>\n",
       "      <th>128</th>\n",
       "      <th>129</th>\n",
       "      <th>130</th>\n",
       "      <th>131</th>\n",
       "      <th>132</th>\n",
       "      <th>ID</th>\n",
       "    </tr>\n",
       "  </thead>\n",
       "  <tbody>\n",
       "    <tr>\n",
       "      <th>0</th>\n",
       "      <td>10</td>\n",
       "      <td>11</td>\n",
       "      <td>132</td>\n",
       "      <td>0</td>\n",
       "      <td>0</td>\n",
       "      <td>0</td>\n",
       "      <td>10</td>\n",
       "      <td>11</td>\n",
       "      <td>132</td>\n",
       "      <td>224700</td>\n",
       "      <td>...</td>\n",
       "      <td>296.0</td>\n",
       "      <td>295.0</td>\n",
       "      <td>175.0</td>\n",
       "      <td>11.0</td>\n",
       "      <td>11.0</td>\n",
       "      <td>64.0</td>\n",
       "      <td>0.0</td>\n",
       "      <td>0.0</td>\n",
       "      <td>0.0</td>\n",
       "      <td>9001695</td>\n",
       "    </tr>\n",
       "    <tr>\n",
       "      <th>0</th>\n",
       "      <td>15</td>\n",
       "      <td>20</td>\n",
       "      <td>217</td>\n",
       "      <td>0</td>\n",
       "      <td>0</td>\n",
       "      <td>0</td>\n",
       "      <td>15</td>\n",
       "      <td>20</td>\n",
       "      <td>217</td>\n",
       "      <td>330674</td>\n",
       "      <td>...</td>\n",
       "      <td>95.0</td>\n",
       "      <td>95.0</td>\n",
       "      <td>83.0</td>\n",
       "      <td>0.0</td>\n",
       "      <td>0.0</td>\n",
       "      <td>0.0</td>\n",
       "      <td>0.0</td>\n",
       "      <td>0.0</td>\n",
       "      <td>0.0</td>\n",
       "      <td>9001897</td>\n",
       "    </tr>\n",
       "    <tr>\n",
       "      <th>0</th>\n",
       "      <td>15</td>\n",
       "      <td>20</td>\n",
       "      <td>217</td>\n",
       "      <td>0</td>\n",
       "      <td>0</td>\n",
       "      <td>0</td>\n",
       "      <td>15</td>\n",
       "      <td>20</td>\n",
       "      <td>217</td>\n",
       "      <td>330674</td>\n",
       "      <td>...</td>\n",
       "      <td>0.0</td>\n",
       "      <td>0.0</td>\n",
       "      <td>0.0</td>\n",
       "      <td>0.0</td>\n",
       "      <td>0.0</td>\n",
       "      <td>0.0</td>\n",
       "      <td>0.0</td>\n",
       "      <td>0.0</td>\n",
       "      <td>0.0</td>\n",
       "      <td>9003126</td>\n",
       "    </tr>\n",
       "    <tr>\n",
       "      <th>0</th>\n",
       "      <td>15</td>\n",
       "      <td>20</td>\n",
       "      <td>217</td>\n",
       "      <td>0</td>\n",
       "      <td>0</td>\n",
       "      <td>0</td>\n",
       "      <td>15</td>\n",
       "      <td>20</td>\n",
       "      <td>217</td>\n",
       "      <td>330674</td>\n",
       "      <td>...</td>\n",
       "      <td>0.0</td>\n",
       "      <td>0.0</td>\n",
       "      <td>0.0</td>\n",
       "      <td>0.0</td>\n",
       "      <td>0.0</td>\n",
       "      <td>0.0</td>\n",
       "      <td>0.0</td>\n",
       "      <td>0.0</td>\n",
       "      <td>0.0</td>\n",
       "      <td>9004184</td>\n",
       "    </tr>\n",
       "    <tr>\n",
       "      <th>0</th>\n",
       "      <td>74</td>\n",
       "      <td>75</td>\n",
       "      <td>161</td>\n",
       "      <td>0</td>\n",
       "      <td>0</td>\n",
       "      <td>0</td>\n",
       "      <td>74</td>\n",
       "      <td>75</td>\n",
       "      <td>161</td>\n",
       "      <td>437370</td>\n",
       "      <td>...</td>\n",
       "      <td>291.0</td>\n",
       "      <td>290.0</td>\n",
       "      <td>193.0</td>\n",
       "      <td>0.0</td>\n",
       "      <td>0.0</td>\n",
       "      <td>46.0</td>\n",
       "      <td>0.0</td>\n",
       "      <td>0.0</td>\n",
       "      <td>0.0</td>\n",
       "      <td>9006140</td>\n",
       "    </tr>\n",
       "  </tbody>\n",
       "</table>\n",
       "<p>5 rows × 134 columns</p>\n",
       "</div>"
      ],
      "text/plain": [
       "    0   1    2  3  4  5   6   7    8       9   ...       124    125    126  \\\n",
       "0  10  11  132  0  0  0  10  11  132  224700   ...     296.0  295.0  175.0   \n",
       "0  15  20  217  0  0  0  15  20  217  330674   ...      95.0   95.0   83.0   \n",
       "0  15  20  217  0  0  0  15  20  217  330674   ...       0.0    0.0    0.0   \n",
       "0  15  20  217  0  0  0  15  20  217  330674   ...       0.0    0.0    0.0   \n",
       "0  74  75  161  0  0  0  74  75  161  437370   ...     291.0  290.0  193.0   \n",
       "\n",
       "    127   128   129  130  131  132       ID  \n",
       "0  11.0  11.0  64.0  0.0  0.0  0.0  9001695  \n",
       "0   0.0   0.0   0.0  0.0  0.0  0.0  9001897  \n",
       "0   0.0   0.0   0.0  0.0  0.0  0.0  9003126  \n",
       "0   0.0   0.0   0.0  0.0  0.0  0.0  9004184  \n",
       "0   0.0   0.0  46.0  0.0  0.0  0.0  9006140  \n",
       "\n",
       "[5 rows x 134 columns]"
      ]
     },
     "execution_count": 30,
     "metadata": {},
     "output_type": "execute_result"
    }
   ],
   "source": [
    "x_data.head()"
   ]
  },
  {
   "cell_type": "code",
   "execution_count": 31,
   "metadata": {
    "ExecuteTime": {
     "end_time": "2019-07-25T11:36:37.416550Z",
     "start_time": "2019-07-25T11:36:36.220605Z"
    }
   },
   "outputs": [],
   "source": [
    "from sklearn.model_selection import train_test_split\n",
    "\n",
    "X_train, X_test, y_train, y_test = train_test_split(X, y, test_size=.2, random_state=1)"
   ]
  },
  {
   "cell_type": "code",
   "execution_count": 32,
   "metadata": {
    "ExecuteTime": {
     "end_time": "2019-07-25T11:36:41.614918Z",
     "start_time": "2019-07-25T11:36:39.405607Z"
    },
    "scrolled": true
   },
   "outputs": [
    {
     "name": "stderr",
     "output_type": "stream",
     "text": [
      "/anaconda3/lib/python3.6/site-packages/h5py/__init__.py:36: FutureWarning: Conversion of the second argument of issubdtype from `float` to `np.floating` is deprecated. In future, it will be treated as `np.float64 == np.dtype(float).type`.\n",
      "  from ._conv import register_converters as _register_converters\n",
      "Using TensorFlow backend.\n"
     ]
    },
    {
     "name": "stdout",
     "output_type": "stream",
     "text": [
      "[(0, 719), (1, 719)]\n"
     ]
    },
    {
     "name": "stderr",
     "output_type": "stream",
     "text": [
      "/anaconda3/lib/python3.6/site-packages/sklearn/utils/validation.py:724: DataConversionWarning: A column-vector y was passed when a 1d array was expected. Please change the shape of y to (n_samples, ), for example using ravel().\n",
      "  y = column_or_1d(y, warn=True)\n"
     ]
    }
   ],
   "source": [
    "#resample for train\n",
    "\n",
    "from imblearn.over_sampling import RandomOverSampler\n",
    "\n",
    "ros = RandomOverSampler(random_state=1)\n",
    "X_train_resampled, y_train_resampled = ros.fit_resample(X_train, y_train)\n",
    "\n",
    "\n",
    "from collections import Counter\n",
    "\n",
    "print(sorted(Counter(y_train_resampled).items()))\n",
    "\n"
   ]
  },
  {
   "cell_type": "code",
   "execution_count": 33,
   "metadata": {
    "ExecuteTime": {
     "end_time": "2019-07-25T11:36:43.829063Z",
     "start_time": "2019-07-25T11:36:43.815655Z"
    }
   },
   "outputs": [],
   "source": [
    "#standarize the data\n",
    "\n",
    "from sklearn.preprocessing import StandardScaler  \n",
    "scaler = StandardScaler()  \n",
    "scaler.fit(X_train_resampled)\n",
    "\n",
    "X_train_resampled = scaler.transform(X_train_resampled)  \n",
    "X_test = scaler.transform(X_test) \n"
   ]
  },
  {
   "cell_type": "code",
   "execution_count": 34,
   "metadata": {
    "ExecuteTime": {
     "end_time": "2019-07-25T11:36:52.964784Z",
     "start_time": "2019-07-25T11:36:45.805114Z"
    },
    "scrolled": true
   },
   "outputs": [
    {
     "name": "stderr",
     "output_type": "stream",
     "text": [
      "/anaconda3/lib/python3.6/site-packages/sklearn/model_selection/_split.py:1978: FutureWarning: The default value of cv will change from 3 to 5 in version 0.22. Specify it explicitly to silence this warning.\n",
      "  warnings.warn(CV_WARNING, FutureWarning)\n"
     ]
    },
    {
     "name": "stdout",
     "output_type": "stream",
     "text": [
      "Best Hyper Parameters: {'max_features': 'auto', 'min_samples_leaf': 1, 'min_samples_split': 2, 'random_state': 123}\n",
      "[[141  45]\n",
      " [ 27  11]]\n",
      "              precision    recall  f1-score   support\n",
      "\n",
      "           0       0.84      0.76      0.80       186\n",
      "           1       0.20      0.29      0.23        38\n",
      "\n",
      "    accuracy                           0.68       224\n",
      "   macro avg       0.52      0.52      0.52       224\n",
      "weighted avg       0.73      0.68      0.70       224\n",
      "\n",
      "Accuracy: 0.6785714285714286\n"
     ]
    }
   ],
   "source": [
    "#decision tree approach\n",
    "\n",
    "from sklearn.tree import DecisionTreeClassifier\n",
    "from sklearn.model_selection import GridSearchCV\n",
    "from sklearn import metrics\n",
    "from sklearn.metrics import classification_report, confusion_matrix, accuracy_score\n",
    "\n",
    "model = DecisionTreeClassifier()\n",
    "\n",
    "params = {'max_features': ['auto', 'sqrt', 'log2'],\n",
    "          'min_samples_split': [2,3,4,5,6,7,8,9,10,11,12,13,14,15], \n",
    "          'min_samples_leaf':[1,2,3,4,5,6,7,8,9,10,11],\n",
    "          'random_state':[123]}\n",
    "\n",
    "model1 = GridSearchCV(model, param_grid=params, n_jobs=-1)\n",
    "\n",
    "model1.fit(X_train_resampled, y_train_resampled)\n",
    "\n",
    "print(\"Best Hyper Parameters:\",model1.best_params_)\n",
    "\n",
    "y_pred = model1.predict(X_test)\n",
    "\n",
    "print(confusion_matrix(y_test,y_pred)) \n",
    "print(classification_report(y_test, y_pred))\n",
    "print(\"Accuracy:\",metrics.accuracy_score(y_test, y_pred))"
   ]
  },
  {
   "cell_type": "code",
   "execution_count": 35,
   "metadata": {
    "ExecuteTime": {
     "end_time": "2019-07-25T11:38:12.955429Z",
     "start_time": "2019-07-25T11:36:54.889418Z"
    }
   },
   "outputs": [
    {
     "name": "stderr",
     "output_type": "stream",
     "text": [
      "/anaconda3/lib/python3.6/site-packages/sklearn/model_selection/_split.py:1978: FutureWarning: The default value of cv will change from 3 to 5 in version 0.22. Specify it explicitly to silence this warning.\n",
      "  warnings.warn(CV_WARNING, FutureWarning)\n"
     ]
    },
    {
     "name": "stdout",
     "output_type": "stream",
     "text": [
      "Best Hyper Parameters:\n",
      " {'algorithm': 'auto', 'leaf_size': 1, 'n_jobs': -1, 'n_neighbors': 5, 'weights': 'distance'}\n",
      "[[122  64]\n",
      " [ 20  18]]\n",
      "              precision    recall  f1-score   support\n",
      "\n",
      "           0       0.86      0.66      0.74       186\n",
      "           1       0.22      0.47      0.30        38\n",
      "\n",
      "    accuracy                           0.62       224\n",
      "   macro avg       0.54      0.56      0.52       224\n",
      "weighted avg       0.75      0.62      0.67       224\n",
      "\n",
      "Accuracy: 0.625\n"
     ]
    }
   ],
   "source": [
    "#k nearest neighbours\n",
    "\n",
    "from sklearn.neighbors import KNeighborsClassifier  \n",
    "\n",
    "model = KNeighborsClassifier(n_jobs=-1)\n",
    "\n",
    "params = {'n_neighbors':[5,6,7,8,9,10],\n",
    "          'leaf_size':[1,2,3,5],\n",
    "          'weights':['uniform', 'distance'],\n",
    "          'algorithm':['auto', 'ball_tree','kd_tree','brute'],\n",
    "          'n_jobs':[-1]}\n",
    "\n",
    "model1 = GridSearchCV(model, param_grid=params, n_jobs=1)\n",
    "\n",
    "model1.fit(X_train_resampled, y_train_resampled) \n",
    "\n",
    "print(\"Best Hyper Parameters:\\n\",model1.best_params_)\n",
    "\n",
    "y_pred=model1.predict(X_test)\n",
    "\n",
    "from sklearn.metrics import classification_report, confusion_matrix  \n",
    "\n",
    "print(confusion_matrix(y_test,y_pred)) \n",
    "print(classification_report(y_test, y_pred))\n",
    "print(\"Accuracy:\",metrics.accuracy_score(y_test, y_pred))"
   ]
  },
  {
   "cell_type": "code",
   "execution_count": 36,
   "metadata": {
    "ExecuteTime": {
     "end_time": "2019-07-25T11:38:42.511127Z",
     "start_time": "2019-07-25T11:38:14.765169Z"
    }
   },
   "outputs": [
    {
     "name": "stderr",
     "output_type": "stream",
     "text": [
      "/anaconda3/lib/python3.6/site-packages/sklearn/model_selection/_split.py:1978: FutureWarning: The default value of cv will change from 3 to 5 in version 0.22. Specify it explicitly to silence this warning.\n",
      "  warnings.warn(CV_WARNING, FutureWarning)\n"
     ]
    },
    {
     "name": "stdout",
     "output_type": "stream",
     "text": [
      "Best Hyper Parameters:\n",
      " {'criterion': 'entropy', 'min_samples_leaf': 1, 'min_samples_split': 3, 'n_estimators': 30, 'n_jobs': -1, 'random_state': 123}\n",
      "[[139  47]\n",
      " [ 26  12]]\n",
      "              precision    recall  f1-score   support\n",
      "\n",
      "           0       0.84      0.75      0.79       186\n",
      "           1       0.20      0.32      0.25        38\n",
      "\n",
      "    accuracy                           0.67       224\n",
      "   macro avg       0.52      0.53      0.52       224\n",
      "weighted avg       0.73      0.67      0.70       224\n",
      "\n",
      "Accuracy: 0.6741071428571429\n"
     ]
    }
   ],
   "source": [
    "#random forest\n",
    "\n",
    "from sklearn.model_selection import GridSearchCV\n",
    "from sklearn.ensemble import RandomForestClassifier\n",
    "\n",
    "model=RandomForestClassifier()\n",
    "\n",
    "params = {'criterion':['gini','entropy'],\n",
    "          'n_estimators':[10,15,20,25,30],\n",
    "          'min_samples_leaf':[1,2,3],\n",
    "          'min_samples_split':[3,4,5,6,7], \n",
    "          'random_state':[123],\n",
    "          'n_jobs':[-1]}\n",
    "\n",
    "model1 = GridSearchCV(model, param_grid=params, n_jobs=-1)\n",
    "\n",
    "model1.fit(X_train_resampled, y_train_resampled)  \n",
    "\n",
    "print(\"Best Hyper Parameters:\\n\",model1.best_params_)\n",
    "\n",
    "y_pred = model1.predict(X_test)\n",
    "\n",
    "from sklearn.metrics import classification_report, confusion_matrix, accuracy_score\n",
    "\n",
    "print(confusion_matrix(y_test,y_pred))  \n",
    "print(classification_report(y_test,y_pred))  \n",
    "print(\"Accuracy:\",metrics.accuracy_score(y_test, y_pred)) "
   ]
  },
  {
   "cell_type": "code",
   "execution_count": 37,
   "metadata": {
    "ExecuteTime": {
     "end_time": "2019-07-25T11:39:05.265076Z",
     "start_time": "2019-07-25T11:38:44.119141Z"
    },
    "scrolled": true
   },
   "outputs": [
    {
     "name": "stderr",
     "output_type": "stream",
     "text": [
      "/anaconda3/lib/python3.6/site-packages/sklearn/model_selection/_split.py:1978: FutureWarning: The default value of cv will change from 3 to 5 in version 0.22. Specify it explicitly to silence this warning.\n",
      "  warnings.warn(CV_WARNING, FutureWarning)\n",
      "/anaconda3/lib/python3.6/site-packages/sklearn/svm/base.py:193: FutureWarning: The default value of gamma will change from 'auto' to 'scale' in version 0.22 to account better for unscaled features. Set gamma explicitly to 'auto' or 'scale' to avoid this warning.\n",
      "  \"avoid this warning.\", FutureWarning)\n"
     ]
    },
    {
     "name": "stdout",
     "output_type": "stream",
     "text": [
      "Best Hyper Parameters:\n",
      " {'C': 1000, 'kernel': 'rbf'}\n",
      "[[139  47]\n",
      " [ 26  12]]\n",
      "              precision    recall  f1-score   support\n",
      "\n",
      "           0       0.84      0.75      0.79       186\n",
      "           1       0.20      0.32      0.25        38\n",
      "\n",
      "    accuracy                           0.67       224\n",
      "   macro avg       0.52      0.53      0.52       224\n",
      "weighted avg       0.73      0.67      0.70       224\n",
      "\n",
      "Accuracy: 0.6741071428571429\n"
     ]
    }
   ],
   "source": [
    "#support vector machines \n",
    "from sklearn import svm\n",
    "from sklearn.svm import SVC,SVR\n",
    "from sklearn.model_selection import GridSearchCV\n",
    "\n",
    "model=svm.SVC()\n",
    "#Hyper Parameters Set\n",
    "params = {'C': [0.001,0.01,0.1,1,2,3,4,5,6,7,8,9,10,100,1000,10000], \n",
    "          'kernel': ['sigmoid','rbf','poly']}\n",
    "\n",
    "model1 = GridSearchCV(model, param_grid=params, n_jobs=-1)\n",
    "\n",
    "model1.fit(X_train_resampled, y_train_resampled) \n",
    "\n",
    "print(\"Best Hyper Parameters:\\n\",model1.best_params_)\n",
    "\n",
    "prediction=model1.predict(X_test)\n",
    "\n",
    "from sklearn.metrics import classification_report, confusion_matrix  \n",
    "\n",
    "print(confusion_matrix(y_test,y_pred)) \n",
    "print(classification_report(y_test,y_pred))  \n",
    "print(\"Accuracy:\",metrics.accuracy_score(y_test, y_pred)) "
   ]
  },
  {
   "cell_type": "code",
   "execution_count": 38,
   "metadata": {
    "ExecuteTime": {
     "end_time": "2019-07-25T11:39:11.940349Z",
     "start_time": "2019-07-25T11:39:08.035143Z"
    }
   },
   "outputs": [
    {
     "name": "stderr",
     "output_type": "stream",
     "text": [
      "/anaconda3/lib/python3.6/site-packages/sklearn/svm/base.py:193: FutureWarning: The default value of gamma will change from 'auto' to 'scale' in version 0.22 to account better for unscaled features. Set gamma explicitly to 'auto' or 'scale' to avoid this warning.\n",
      "  \"avoid this warning.\", FutureWarning)\n"
     ]
    },
    {
     "name": "stdout",
     "output_type": "stream",
     "text": [
      "[[164  22]\n",
      " [ 31   7]]\n",
      "              precision    recall  f1-score   support\n",
      "\n",
      "           0       0.84      0.88      0.86       186\n",
      "           1       0.24      0.18      0.21        38\n",
      "\n",
      "    accuracy                           0.76       224\n",
      "   macro avg       0.54      0.53      0.53       224\n",
      "weighted avg       0.74      0.76      0.75       224\n",
      "\n",
      "Accuracy: 0.7633928571428571\n"
     ]
    }
   ],
   "source": [
    "#support vector machines with poly kernel\n",
    "\n",
    "from sklearn.svm import SVC  \n",
    "\n",
    "# model=svm.SVC()\n",
    "# #Hyper Parameters Set\n",
    "# params = {'C': [0.001,0.01,0.1,1,2,3,4,5,6,7,8,9,10,11,12], \n",
    "#           'kernel': ['poly'],\n",
    "#           'degree': [2,3,4,5,6,7,8,9,10,11]}\n",
    "\n",
    "# model1 = GridSearchCV(model, param_grid=params, n_jobs=-1)\n",
    "\n",
    "# model1.fit(X_train, y_train) \n",
    "\n",
    "# print(\"Best Hyper Parameters:\\n\",model1.best_params_)\n",
    "\n",
    "# y_pred=model1.predict(X_test)\n",
    "\n",
    "\n",
    "\n",
    "svclassifier = SVC(kernel='poly', degree=6, C=10000) \n",
    "svclassifier.fit(X_train_resampled, y_train_resampled)  \n",
    "\n",
    "y_pred = svclassifier.predict(X_test)  \n",
    "\n",
    "from sklearn.metrics import classification_report, confusion_matrix  \n",
    "\n",
    "print(confusion_matrix(y_test,y_pred)) \n",
    "print(classification_report(y_test,y_pred))  \n",
    "print(\"Accuracy:\",metrics.accuracy_score(y_test, y_pred)) "
   ]
  },
  {
   "cell_type": "code",
   "execution_count": 39,
   "metadata": {
    "ExecuteTime": {
     "end_time": "2019-07-25T11:39:14.501410Z",
     "start_time": "2019-07-25T11:39:13.970172Z"
    }
   },
   "outputs": [
    {
     "name": "stdout",
     "output_type": "stream",
     "text": [
      "[[133  53]\n",
      " [ 24  14]]\n",
      "              precision    recall  f1-score   support\n",
      "\n",
      "           0       0.85      0.72      0.78       186\n",
      "           1       0.21      0.37      0.27        38\n",
      "\n",
      "    accuracy                           0.66       224\n",
      "   macro avg       0.53      0.54      0.52       224\n",
      "weighted avg       0.74      0.66      0.69       224\n",
      "\n",
      "Accuracy: 0.65625\n"
     ]
    }
   ],
   "source": [
    "#now we have the balanced algorithms\n",
    "\n",
    "#balanced random forest\n",
    "\n",
    "from imblearn.ensemble import BalancedRandomForestClassifier\n",
    "from sklearn.datasets import make_classification\n",
    "from imblearn.under_sampling import RandomUnderSampler\n",
    "from collections import Counter\n",
    "\n",
    "\n",
    "clf = BalancedRandomForestClassifier(max_depth=50, random_state=0)\n",
    "clf.fit(X_train_resampled, y_train_resampled)  # doctest: +ELLIPSIS\n",
    "\n",
    "y_pred = clf.predict(X_test)  \n",
    "\n",
    "\n",
    "from sklearn.metrics import classification_report, confusion_matrix, accuracy_score\n",
    "  \n",
    "print(confusion_matrix(y_test,y_pred))     \n",
    "print(classification_report(y_test, y_pred))\n",
    "print(\"Accuracy:\",metrics.accuracy_score(y_test, y_pred))"
   ]
  },
  {
   "cell_type": "code",
   "execution_count": 40,
   "metadata": {
    "ExecuteTime": {
     "end_time": "2019-07-25T11:39:16.400781Z",
     "start_time": "2019-07-25T11:39:16.362963Z"
    }
   },
   "outputs": [
    {
     "name": "stdout",
     "output_type": "stream",
     "text": [
      "[[130  56]\n",
      " [ 27  11]]\n",
      "              precision    recall  f1-score   support\n",
      "\n",
      "           0       0.83      0.70      0.76       186\n",
      "           1       0.16      0.29      0.21        38\n",
      "\n",
      "    accuracy                           0.63       224\n",
      "   macro avg       0.50      0.49      0.48       224\n",
      "weighted avg       0.72      0.63      0.66       224\n",
      "\n",
      "Accuracy: 0.6294642857142857\n"
     ]
    }
   ],
   "source": [
    "#balanced bagging classifier\n",
    "\n",
    "from imblearn.ensemble import BalancedBaggingClassifier \n",
    "\n",
    "bbc = BalancedBaggingClassifier(random_state=42,max_samples=30,max_features=8)\n",
    "bbc.fit(X_train_resampled, y_train_resampled)\n",
    "\n",
    "BalancedBaggingClassifier(...)\n",
    "y_pred = bbc.predict(X_test)\n",
    "\n",
    "print(confusion_matrix(y_test,y_pred)) \n",
    "print(classification_report(y_test, y_pred))\n",
    "print(\"Accuracy:\",metrics.accuracy_score(y_test, y_pred))"
   ]
  },
  {
   "cell_type": "code",
   "execution_count": 41,
   "metadata": {
    "ExecuteTime": {
     "end_time": "2019-07-25T11:39:20.589390Z",
     "start_time": "2019-07-25T11:39:18.449703Z"
    }
   },
   "outputs": [
    {
     "name": "stdout",
     "output_type": "stream",
     "text": [
      "[[124  62]\n",
      " [ 23  15]]\n",
      "              precision    recall  f1-score   support\n",
      "\n",
      "           0       0.84      0.67      0.74       186\n",
      "           1       0.19      0.39      0.26        38\n",
      "\n",
      "    accuracy                           0.62       224\n",
      "   macro avg       0.52      0.53      0.50       224\n",
      "weighted avg       0.73      0.62      0.66       224\n",
      "\n",
      "Accuracy: 0.6205357142857143\n"
     ]
    }
   ],
   "source": [
    "#easy ensemble classifier\n",
    "\n",
    "from imblearn.ensemble import EasyEnsembleClassifier\n",
    "\n",
    "eec = EasyEnsembleClassifier(random_state=42)\n",
    "\n",
    "eec.fit(X_train_resampled, y_train_resampled)\n",
    "\n",
    "# eec.fit(X_train, y_train)\n",
    "\n",
    "EasyEnsembleClassifier(...)\n",
    "y_pred = eec.predict(X_test)\n",
    "\n",
    "print(confusion_matrix(y_test,y_pred)) \n",
    "print(classification_report(y_test, y_pred))\n",
    "print(\"Accuracy:\",metrics.accuracy_score(y_test, y_pred))"
   ]
  },
  {
   "cell_type": "code",
   "execution_count": 42,
   "metadata": {
    "ExecuteTime": {
     "end_time": "2019-07-25T11:39:23.082530Z",
     "start_time": "2019-07-25T11:39:22.772391Z"
    }
   },
   "outputs": [
    {
     "name": "stdout",
     "output_type": "stream",
     "text": [
      "[[124  62]\n",
      " [ 23  15]]\n",
      "              precision    recall  f1-score   support\n",
      "\n",
      "           0       0.84      0.67      0.74       186\n",
      "           1       0.19      0.39      0.26        38\n",
      "\n",
      "    accuracy                           0.62       224\n",
      "   macro avg       0.52      0.53      0.50       224\n",
      "weighted avg       0.73      0.62      0.66       224\n",
      "\n",
      "Accuracy: 0.6205357142857143\n"
     ]
    }
   ],
   "source": [
    "#Random under-sampling integrating in the learning of an AdaBoost classifier\n",
    "#RUSBoostClassifier\n",
    "\n",
    "from imblearn.ensemble import RUSBoostClassifier\n",
    "\n",
    "clf = RUSBoostClassifier(random_state=0)\n",
    "\n",
    "clf.fit(X_train_resampled, y_train_resampled)\n",
    "\n",
    "\n",
    "RUSBoostClassifier(...)\n",
    "y_pred = clf.predict(X_test)\n",
    "\n",
    "print(confusion_matrix(y_test,y_pred)) \n",
    "print(classification_report(y_test, y_pred))\n",
    "print(\"Accuracy:\",metrics.accuracy_score(y_test, y_pred))"
   ]
  },
  {
   "cell_type": "code",
   "execution_count": null,
   "metadata": {},
   "outputs": [],
   "source": []
  }
 ],
 "metadata": {
  "kernelspec": {
   "display_name": "Python 3",
   "language": "python",
   "name": "python3"
  },
  "language_info": {
   "codemirror_mode": {
    "name": "ipython",
    "version": 3
   },
   "file_extension": ".py",
   "mimetype": "text/x-python",
   "name": "python",
   "nbconvert_exporter": "python",
   "pygments_lexer": "ipython3",
   "version": "3.6.8"
  },
  "latex_envs": {
   "LaTeX_envs_menu_present": true,
   "autoclose": false,
   "autocomplete": true,
   "bibliofile": "biblio.bib",
   "cite_by": "apalike",
   "current_citInitial": 1,
   "eqLabelWithNumbers": true,
   "eqNumInitial": 1,
   "hotkeys": {
    "equation": "Ctrl-E",
    "itemize": "Ctrl-I"
   },
   "labels_anchors": false,
   "latex_user_defs": false,
   "report_style_numbering": false,
   "user_envs_cfg": false
  },
  "toc": {
   "base_numbering": 1,
   "nav_menu": {},
   "number_sections": true,
   "sideBar": true,
   "skip_h1_title": false,
   "title_cell": "Table of Contents",
   "title_sidebar": "Contents",
   "toc_cell": false,
   "toc_position": {},
   "toc_section_display": true,
   "toc_window_display": false
  },
  "varInspector": {
   "cols": {
    "lenName": 16,
    "lenType": 16,
    "lenVar": 40
   },
   "kernels_config": {
    "python": {
     "delete_cmd_postfix": "",
     "delete_cmd_prefix": "del ",
     "library": "var_list.py",
     "varRefreshCmd": "print(var_dic_list())"
    },
    "r": {
     "delete_cmd_postfix": ") ",
     "delete_cmd_prefix": "rm(",
     "library": "var_list.r",
     "varRefreshCmd": "cat(var_dic_list()) "
    }
   },
   "types_to_exclude": [
    "module",
    "function",
    "builtin_function_or_method",
    "instance",
    "_Feature"
   ],
   "window_display": false
  }
 },
 "nbformat": 4,
 "nbformat_minor": 2
}
